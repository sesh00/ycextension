{
 "cells": [
  {
   "cell_type": "markdown",
   "metadata": {
    "cellId": "4oyxczf3yklt4wwzshxz0f"
   },
   "source": [
    "<a id='section-id0'></a>\n",
    "# Добро пожаловать в DataSphere!\n",
    "Yandex DataSphere — это среда для ML-разработки и анализа данных.  \n",
    "Основной интерфейс в Datasphere — это Jupyter® Notebook.  \n",
    "Чтобы узнать больше о работе в Jupyter® Notebook, советуем ознакомиться с [документацией](https://jupyter-notebook.readthedocs.io/en/stable/)."
   ]
  },
  {
   "cell_type": "markdown",
   "metadata": {
    "cellId": "gz6dw5mwm7fopfdipmbhh9"
   },
   "source": [
    "В этом ноутбуке мы коротко расскажем об основных отличительных особенностях работы в DataSphere.\n",
    "\n",
    "1. [Сохранение состояния](#section-id1)\n",
    "Yandex DataSphere позволяет сохранять код, состояние интерпретатора, все переменные и результаты вычислений. Если вы закроете вкладку с ноутбуком, то сможете продолжить работу с того же момента, когда снова откроете проект.\n",
    "\n",
    "2. [Выбор и бесшовное переключение вычислительных ресурсов](#section-id2)\n",
    "Сохранение состояния делает возможным применение технологии бессерверных вычислений при обучении моделей и работе в ноутбуках. В Yandex DataSpherе можно бесшовно переключать разные конфигурации вычислительных ресурсов, предоставляемые Yandex Cloud. \n",
    "\n",
    "3. [Режим работы Early Access Version.](#section-id3)\n",
    "Ранний доступ к новым возможностям DataSphere.\n",
    "\n",
    "4. [Что делать, если все сломалось.](#section-id4)\n",
    "Вы можете закрыть проект и выйти из него, когда все зависло. Прямо из интерфейса ноутбука вы можете отправить обращение в поддержку, если что-то идет не так. \n",
    "\n",
    "5. [Узнать о DataSphere больше.](#section-id5)\n",
    "Ссылки на документацию, вебинары и телеграм-канал DataSphere Community. \n",
    "\n",
    "**Другие полезные ноутбуки**\n",
    "\n",
    "- [О работе с данными и версионировании кода, переменных и состояния в Yandex DataSphere, а также о том, как поделиться результатами](dataflow_ru.ipynb#section-id0)\n",
    "- [Об обучении моделей и  возможностях Yandex DataSphere](modeltraining_ru.ipynb#section-id0)\n",
    "- [Настройка рабочей среды в Yandex DataSphere](environment_ru.ipynb#section-id0)\n"
   ]
  },
  {
   "cell_type": "markdown",
   "metadata": {
    "cellId": "imz9ijrac2b3kkrquufvq"
   },
   "source": [
    "<a id='section-id1'></a>\n",
    "## 1. Сохранение состояния\n",
    "\n",
    "Уникальное свойство DataSphere — возможность сохранять и версионировать не только код, но и состояние интерпретатора, все переменные и результаты вычислений. Если вы закроете вкладку с ноутбуком во время вычислений, все запущенные ячейки будут выполнены, а вы сможете продолжить работу с того же момента, когда снова откроете проект."
   ]
  },
  {
   "cell_type": "markdown",
   "metadata": {
    "cellId": "88apnuq9y4h61r9wu6wtqg"
   },
   "source": [
    "В режиме, включенном по умолчанию, сохранение состояния происходит после каждого этапа вычислений, при этом одновременный запуск вычисления нескольких ячеек считается одним этапом.\n",
    "Состояние сохраняется только после вычисления последней из запущенных ячеек. Для более удобной работы с короткими вычислениями доступен режим **Autosave commit mode**.  он сохраняет состояние после вычисления в фоне, через 5 минут после последней операции, не прерывая последовательное вычисление ячеек ожиданием сохранения состояния.\n",
    "**Режим Autosave commit mode можно включить в пункте Settings верхнего меню.**\n",
    "\n",
    "![](https://storage.yandexcloud.net/onboarding-notebooks/screenshots/autosave-commit-mode.png)\n",
    "    \n",
    "Больше деталей о версионировании и работе с данными можно прочитать в [документации](https://cloud.yandex.ru/docs/datasphere/concepts/save-state) и в ноутбуке [О работе с данными и версионировании кода, переменных и состояния в Yandex DataSphere, а также о том, как поделиться результатами](dataflow_ru.ipynb#section-id0)."
   ]
  },
  {
   "cell_type": "markdown",
   "metadata": {
    "cellId": "bf1frbwy83h6ieykseb746"
   },
   "source": [
    "<a id='section-id2'></a>\n",
    "## 2. Выбор и бесшовное переключение типов вычислительных ресурсов\n",
    "\n",
    "Поскольку состояние после выполнения вычислений сохраняется, ноутбуки больше не зависят от машин: в DataSphere доступны разные конфигурации вычислительных ресурсов, выбирайте нужную вам и смело переключайтесь между ними. \n",
    "\n",
    "![](https://storage.yandexcloud.net/onboarding-notebooks/screenshots/specs.png)"
   ]
  },
  {
   "cell_type": "markdown",
   "metadata": {
    "cellId": "d9tfnyh5fx796sy6n2sgtn"
   },
   "source": [
    "Размер доступного диска – 10 ГБ. Для каждой ячейки можно выбрать свою конфигурацию вычислительных ресурсов в любой момент в процессе работы. При этом состояние интерпретатора сохранится.\n",
    "Выбрать конфигурацию для ячейки можно с помощью префикса в первой строке ячейки или в меню ноутбука."
   ]
  },
  {
   "cell_type": "code",
   "execution_count": null,
   "metadata": {
    "cellId": "293vdacvl76ktu50g42foc"
   },
   "outputs": [],
   "source": [
    "#!c1.4\n",
    "#Эта ячейка будет запущена на конфигурации c1.4 (4 cores)\n",
    "s = 'I love DataSphere'\n",
    "print(s)"
   ]
  },
  {
   "cell_type": "code",
   "execution_count": null,
   "metadata": {
    "cellId": "if6izvag7f8u0zd1zhxfvi"
   },
   "outputs": [],
   "source": [
    "#Эта ячейка тоже будет запущена на конфигурации c1.4 (4 cores), так как это конфигурация по умолчанию\n",
    "s = 'I enjoy DataSphere'\n",
    "print(s)"
   ]
  },
  {
   "cell_type": "code",
   "execution_count": null,
   "metadata": {
    "cellId": "hbocohihahi0m34f26a23u"
   },
   "outputs": [],
   "source": [
    "#!g1.1\n",
    "#Эта ячейка будет запущена на конфигурации g1.1 (8 cores, gpu: 1xV100)\n",
    "#И, кстати, наша переменная доступна уже на новой машинке, потому что состояние переменных мы перенесли — вот, смотрите: \n",
    "print(s)"
   ]
  },
  {
   "cell_type": "markdown",
   "metadata": {
    "cellId": "5ms5aastr7hvgvk8awtg5a"
   },
   "source": [
    "Про специальные возможности обучения моделей в Yandex.DataSphere можно прочитать в ноутбуке [Об обучении моделей и возможностях Yandex DataSphere](dataflow_ru.ipynb#section-id0)."
   ]
  },
  {
   "cell_type": "markdown",
   "metadata": {
    "cellId": "1994z8zpjgq8ymtyqil17g"
   },
   "source": [
    "<a id='section-id3'></a>\n",
    "## 3. Режим Early Access Version\n",
    "\n",
    "В Yandex DataSphere доступен режим Early Access Version, предоставляющий ранний доступ к новым возможностям DataSphere. Это pre-release версия системы. Мы ждем и надеемся, что, используя EAV, вы [активно пишете нам свои отзывы и замечания о работе среды.](#section-id6)\n",
    "\n",
    "Режим работы EAV выбирается целиком для проекта. Вы можете вернуться к обычному режиму работы в меню **File** ⟶ **Disable Early Access Version**.\n",
    "\n",
    "![](https://storage.yandexcloud.net/onboarding-notebooks/screenshots/enable-eav.png) ![](https://storage.yandexcloud.net/onboarding-notebooks/screenshots/disable-eav.png)"
   ]
  },
  {
   "cell_type": "markdown",
   "metadata": {
    "cellId": "6dq3tduirx4ht4jmxuborn"
   },
   "source": [
    "<a id='section-id4'></a>\n",
    "## 4. Что делать, если все сломалось\n",
    "\n",
    "Вы можете просто остановить работу вычислительных ресурсов и вернуться в консоль. При этом все несохраненные изменения и результаты вычислений будут утеряны. \n",
    "\n",
    "![Button stop project](https://storage.yandexcloud.net/onboarding-notebooks/screenshots/stop-project.png)"
   ]
  },
  {
   "cell_type": "markdown",
   "metadata": {
    "cellId": "k35v05d1dz8rewofrk32"
   },
   "source": [
    "<a id='section-id6'></a>\n",
    "Напишите нам, если что-то идёт не так: в главном меню выберите пункт **Help** ⟶ **Report a bug** или нажмите на иконку с жуком в нижнем правом углу и заполните обращение в поддержку.\n",
    "\n",
    "![](https://storage.yandexcloud.net/onboarding-notebooks/screenshots/report-a-bug.png)    ![](https://storage.yandexcloud.net/onboarding-notebooks/screenshots/report-a-bug-red.png)\n",
    "\n",
    "Кроме того, вы всегда можете создать обращение в поддержку по поводу Yandex DataSphere из консоли."
   ]
  },
  {
   "cell_type": "markdown",
   "metadata": {
    "cellId": "mcjo8gkk9xatq98s4pu1c",
    "pycharm": {
     "name": "#%% md\n"
    }
   },
   "source": [
    "<a id='section-id5'></a>\n",
    "\n",
    "## 5. Узнать о Yandex DataSphere больше\n",
    "У нас есть подробная [документация](https://cloud.yandex.ru/docs/datasphere/).\n",
    "\n",
    "**Еще три полезных ноутбука**  \n",
    "- [О работе с данными и версионировании кода, переменных и состояния в Yandex DataSphere, а также о том, как поделиться результатами](dataflow_ru.ipynb#section-id0)\n",
    "- [Об обучении моделей и  возможностях Yandex DataSphere](modeltraining_ru.ipynb#section-id0)\n",
    "- [Настройка рабочей среды в Yandex DataSphere](environment_ru.ipynb#section-id0)\n",
    "\n",
    "[Видео о DataSphere](https://cloud.yandex.ru/docs/datasphere/public-talks) с вебинаров и конференций ."
   ]
  },
  {
   "cell_type": "markdown",
   "metadata": {
    "cellId": "jwknr65sq338imqgcxjh3"
   },
   "source": [
    "### А поговорить?\n",
    "У Yandex DataSphere есть <a href=\"https://t.me/yandex_datasphere\"> чат сообщества в Телеграм</a>, присоединяйтесь! "
   ]
  }
 ],
 "metadata": {
  "language_info": {
   "codemirror_mode": {
    "name": "ipython",
    "version": 3
   },
   "file_extension": ".py",
   "mimetype": "text/x-python",
   "name": "python",
   "nbconvert_exporter": "python",
   "pygments_lexer": "ipython3",
   "version": "3.7.7"
  },
  "notebookId": "15855296-2b12-4525-a874-287b808d7ace",
  "notebookPath": "sdfsd/.ipynb_checkpoints/.ipynb_checkpoints/welcome_ru-checkpoint-checkpoint.ipynb",
  "ydsNotebookPath": "welcome_ru.ipynb"
 },
 "nbformat": 4,
 "nbformat_minor": 4
}
