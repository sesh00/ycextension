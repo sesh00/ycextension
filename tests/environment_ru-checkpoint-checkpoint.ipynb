{
 "cells": [
  {
   "cell_type": "markdown",
   "metadata": {
    "cellId": "tfcoltraodte73fty0hon"
   },
   "source": [
    "<a id='section-id0'></a>\n",
    "<h1>Настройка рабочей среды в Yandex DataSphere</h1>\n",
    "\n",
    "1. [Установка библиотек и изменение версий установленных библиотек.](#section-id1)\n",
    "2. [Кастомные образы.](#section-id2)\n",
    "3. [Секретница.](#section-id3)\n",
    "4. [Узнать о Yandex DataSphere больше.](#section-id4)"
   ]
  },
  {
   "cell_type": "markdown",
   "metadata": {
    "cellId": "mju4lypnejm24sy5yl62n6"
   },
   "source": [
    "<a id='section-id1'></a>\n",
    "## 1. Установка библиотек и изменение версий установленных библиотек\n",
    "\n",
    "Yandex DataSphere — это среда разработки, готовая к использованию. На виртуальной машине уже установлена среда разработки JupyterLab и пакеты для анализа данных и машинного обучения (TensorFlow, Keras, NumPy и другие) — вы можете сразу начать их использовать. Полный список предустановленных пакетов можно посмотреть <a href=\"https://cloud.yandex.ru/docs/datasphere/concepts/preinstalled-packages\"> в документации</a> или проверить с помощью команды `%pip list`."
   ]
  },
  {
   "cell_type": "code",
   "execution_count": null,
   "metadata": {
    "cellId": "gu0npn6vftb6px54ftsipu"
   },
   "outputs": [],
   "source": [
    "%pip list"
   ]
  },
  {
   "cell_type": "markdown",
   "metadata": {
    "cellId": "w5zztdfjkmr085g8s1aj969"
   },
   "source": [
    "Если какого-то пакета вам не хватает, вы можете установить его прямо из ноутбука с помощью пакетного менеджера `%pip`. В DataSphere работают стандартные опции команды `%pip`. Вы можете проверить, какая версия библиотеки установлена, и установить более раннюю, более позднюю версию или самую свежую версию библиотеки."
   ]
  },
  {
   "cell_type": "code",
   "execution_count": null,
   "metadata": {
    "cellId": "o6pcageicjk2hv1eoiv4kz"
   },
   "outputs": [],
   "source": [
    "#Вот так мы установим самую свежую версию нужной библиотеки\n",
    "%pip install fasttext"
   ]
  },
  {
   "cell_type": "code",
   "execution_count": null,
   "metadata": {
    "cellId": "ccldu6ozioltit3yg4h93f"
   },
   "outputs": [],
   "source": [
    "#Так можно установить конкретную нужную версию билиотеки\n",
    "%pip install fasttext==0.9.1 "
   ]
  },
  {
   "cell_type": "code",
   "execution_count": null,
   "metadata": {
    "cellId": "avkbv9eze3vjlxd80lc2te"
   },
   "outputs": [],
   "source": [
    "#С помощью вот такой последовательности команд можно установить более свежу версию уже установленного пакета\n",
    "%pip install --upgrade fasttext"
   ]
  },
  {
   "cell_type": "markdown",
   "metadata": {
    "cellId": "5vfh5wfb18n8iuagi1xoba"
   },
   "source": [
    "<a id='section-id2'></a>\n",
    "## 2. Пользовательские образы\n",
    "Вы можете не только изменить версии одной или нескольких предустановленных библиотек или добавить свою библиотеку, но и собрать полностью свой образ из нужных вам библиотек и их версий — как публично доступных, так и проприетарных.  \n",
    "Чтобы собрать свой образ, слева откройте вкладку **Docker Images** и нажмите на иконку **+**. \n",
    "\n",
    "В открывшемся ноутбуке заполните поля:\n",
    "- в поле **Build path** укажите путь сборки;\n",
    "- в поле **Repository** укажите имя образа;\n",
    "- в поле **Tag** — версию собираемого образа;\n",
    "- в меню **Dockerfile template** выберите версию Python, которая будет установлена в вашем образе. \n",
    "\n",
    "Нажмите **Build** и запустите сборку образа.\n",
    "\n",
    "![](https://storage.yandexcloud.net/onboarding-notebooks/screenshots/create-custom-docker-image.png)"
   ]
  },
  {
   "cell_type": "code",
   "execution_count": null,
   "metadata": {
    "cellId": "ufzjjte0til50gw8k4af"
   },
   "outputs": [],
   "source": []
  },
  {
   "cell_type": "markdown",
   "metadata": {
    "cellId": "ynrftbagyyec7wkptja8ws"
   },
   "source": [
    "Ноутбук для сборки пользовательского образа также можно открыть через главное меню **File** ⟶ **Open Docker Notebook**.\n",
    "\n",
    "![](https://storage.yandexcloud.net/onboarding-notebooks/screenshots/open-docker-notebook.png)"
   ]
  },
  {
   "cell_type": "markdown",
   "metadata": {
    "cellId": "njdp2icp3poxuxjrcg3z"
   },
   "source": [
    "Успешно собранный образ можно установить в проекте в качестве docker-образа по умолчанию, выбрав **Set image to project** в правом нижнем углу экрана.  \n",
    "Вы всегда можете вернуться к исходному системному docker-образу, нажав **Reset docker image in project** на панели docker-образов.\n",
    "\n",
    "![](https://storage.yandexcloud.net/onboarding-notebooks/screenshots/set-image-to-project.png) ![](https://storage.yandexcloud.net/onboarding-notebooks/screenshots/reset-docker-image.png)"
   ]
  },
  {
   "cell_type": "markdown",
   "metadata": {
    "cellId": "qvj6zgmpedr904ej5cd119"
   },
   "source": [
    "Чтобы собрать образ с новой версией драйвера CUDA, вставьте пример после комментария **# Write your instructions here**. Такой образ может понадобиться для запуска tensorflow > 2.4.x с использованием GPU.\n",
    "\n",
    "```\n",
    "FROM ubuntu:18.04\n",
    "ENV DEBIAN_FRONTEND noninteractive\n",
    "RUN useradd -ms /bin/bash --uid 1000 jupyter\\\n",
    " && apt update\\\n",
    " && apt install -y python3.8-dev python3.8-distutils gnupg wget software-properties-common curl\\\n",
    " && ln -s /usr/bin/python3.8 /usr/local/bin/python3\\\n",
    " && curl https://bootstrap.pypa.io/get-pip.py | python3\n",
    "ENV LD_LIBRARY_PATH /usr/local/cuda-11.2/lib64:/usr/local/nvidia/lib:/usr/local/nvidia/lib64:/usr/local/cuda/lib64:/usr/local/cuda/extras/CUPTI/lib64\n",
    "RUN apt-get update &&\\\n",
    " apt-get install -y -q xserver-xorg-core wget &&\\\n",
    " wget https://developer.download.nvidia.com/compute/cuda/repos/ubuntu1804/x86_64/cuda-ubuntu1804.pin -O /etc/apt/preferences.d/cuda-repository-pin-600 &&\\\n",
    " apt-key adv --fetch-keys https://developer.download.nvidia.com/compute/cuda/repos/ubuntu1804/x86_64/7fa2af80.pub &&\\\n",
    " add-apt-repository \"deb https://developer.download.nvidia.com/compute/cuda/repos/ubuntu1804/x86_64/ /\" &&\\\n",
    " apt-get update &&\\\n",
    " apt-get -y install cuda libcudnn8 nvidia-cuda-toolkit &&\\\n",
    " exit\n",
    "RUN pip install tensorflow-gpu==2.4.1\n",
    "```"
   ]
  },
  {
   "cell_type": "markdown",
   "metadata": {
    "cellId": "hrf5qp3fx27o7x06l85lz"
   },
   "source": [
    "<a id='section-id3'></a>\n",
    "## 3. Секретница\n",
    "Теперь вы можете создавать и хранить секреты в закрытом виде, вызывая их в коде ноутбука по мере надобности. Вы можете сами задавать, на каком уровне эти секреты доступны — всем пользователям проекта, каталога или облака. \n",
    "\n",
    "**Важно:** для того, чтобы новые секреты стали доступны в текущей сессии, нужно перезапустить ядро (**Kernel ⟶ Restart kernel**).\n",
    "\n",
    "![](https://storage.yandexcloud.net/onboarding-notebooks/screenshots/secrets.png) ![](https://storage.yandexcloud.net/onboarding-notebooks/screenshots/create-secret.png)"
   ]
  },
  {
   "cell_type": "code",
   "execution_count": null,
   "metadata": {
    "cellId": "c24d0r126lhnfa4skjxld"
   },
   "outputs": [],
   "source": [
    "#Из кода содержимое секрета можно вызвать вот так\n",
    "import os\n",
    "os.environ['secret']"
   ]
  },
  {
   "cell_type": "code",
   "execution_count": null,
   "metadata": {
    "cellId": "61krasdakellaxtkkkwe5s"
   },
   "outputs": [],
   "source": [
    "#!:bash\n",
    "#Или вот так\n",
    "echo $secret"
   ]
  },
  {
   "cell_type": "markdown",
   "metadata": {
    "cellId": "aet9zbef7u9kbf48xn4d7c"
   },
   "source": [
    "<a id='section-id4'></a>\n",
    "\n",
    "## 4. Узнать о Yandex DataSphere больше\n",
    "У нас есть [документация](https://cloud.yandex.ru/docs/datasphere/).\n",
    "\n",
    "**Еще три полезных ноутбука**  \n",
    "- [Добро пожаловать в Yandex DataSphere](welcome_ru.ipynb#section-id0)  \n",
    "- [О работе с данными и версионировании кода, переменных и состояния в Yandex DataSphere, а также о том, как поделиться результатами](dataflow_ru.ipynb#section-id0)  \n",
    "- [Обучение моделей в Yandex DataSphere](modeltraining_ru.ipynb#section-id0)\n",
    "\n",
    "**Видео о DataSphere:**\n",
    "- <a href=\"https://www.youtube.com/watch?v=udZcoKwb6aM&lc=UgyYeJGhB1WX-FvyqTJ4AaABAg\"> вебинар \"Новое в Yandex DataSphere для ML-разработки\" (февраль 2021) </a>\n",
    "- <a href=\"https://www.youtube.com/watch?v=_haQTawg940\"> практический вебинар по DataSphere (ноябрь 2020) </a>\n",
    "- <a href=\"https://youtu.be/1px5ZoN44cE\"> доклад на Yandex.Scale 2020 о возможностях DataSphere (сентябрь 2020)</a>\n",
    "- <a href=\"https://youtu.be/5y2-x9GcITs\"> рассказ на Yandex.Scale 2020 о технической реализации DataSpher (сентябрь 2020)e</a>\n",
    "- <a href=\"https://youtu.be/5o5OJOwDfaU\"> практический вебинар, работа в DataSphere на примере публичных данных (август 2020)</a>\n",
    "- <a href=\"https://www.youtube.com/watch?v=MtXpZ4RZAjk\"> рассказ о DataSphere на конференции about:cloud  (май 2020) </a>"
   ]
  },
  {
   "cell_type": "code",
   "execution_count": null,
   "metadata": {
    "cellId": "a869m1fxq4vhq0nweng6r"
   },
   "outputs": [],
   "source": []
  }
 ],
 "metadata": {
  "language_info": {
   "codemirror_mode": {
    "name": "ipython",
    "version": 3
   },
   "file_extension": ".py",
   "mimetype": "text/x-python",
   "name": "python",
   "nbconvert_exporter": "python",
   "pygments_lexer": "ipython3",
   "version": "3.7.7"
  },
  "notebookId": "368058a7-227e-4db2-bbb7-f5cd280431f2",
  "notebookPath": "sdfsd/.ipynb_checkpoints/.ipynb_checkpoints/environment_ru-checkpoint-checkpoint.ipynb",
  "ydsNotebookPath": "environment_ru.ipynb"
 },
 "nbformat": 4,
 "nbformat_minor": 4
}
