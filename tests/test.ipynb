{
 "cells": [
  {
   "cell_type": "code",
   "execution_count": null,
   "id": "99f3f67d-0c39-4dd7-976d-ea89ca54fa1d",
   "metadata": {},
   "outputs": [],
   "source": [
    "print(123)"
   ]
  },
  {
   "cell_type": "code",
   "execution_count": null,
   "id": "56029084-8a2c-41dc-9ec2-a28e13a85866",
   "metadata": {},
   "outputs": [],
   "source": [
    "print(456)"
   ]
  },
  {
   "cell_type": "code",
   "execution_count": null,
   "id": "e17e0182-7da0-4dfb-922e-ffa491734582",
   "metadata": {},
   "outputs": [],
   "source": [
    "print(789)"
   ]
  }
 ],
 "metadata": {
  "kernelspec": {
   "display_name": "Python 3 (ipykernel)",
   "language": "python",
   "name": "python3"
  },
  "language_info": {
   "codemirror_mode": {
    "name": "ipython",
    "version": 3
   },
   "file_extension": ".py",
   "mimetype": "text/x-python",
   "name": "python",
   "nbconvert_exporter": "python",
   "pygments_lexer": "ipython3",
   "version": "3.12.1"
  }
 },
 "nbformat": 4,
 "nbformat_minor": 5
}
