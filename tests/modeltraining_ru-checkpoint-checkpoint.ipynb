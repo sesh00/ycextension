{
 "cells": [
  {
   "cell_type": "markdown",
   "metadata": {
    "cellId": "ufptbp8dqlj2uz1fzc0nan"
   },
   "source": [
    "<a id='section-id0'></a>\n",
    "# Обучение моделей в Yandex DataSphere\n",
    "\n",
    "1. [Фоновый запуск операций](#section-id1)\n",
    "2. [Early Access Version: Фоновый запуск последовательности операций](#section-id2)\n",
    "3. [Делегирование вычислений на кластера Data Proc](#section-id3)\n",
    "4. [Распределенное обучение](#section-id4)\n",
    "5. [Индикаторы загрузки памяти, CPU и GPU](#section-id5)\n",
    "6. [Поддержка TensorBoard](#section-id6)\n",
    "7. [Узнать о Yandex DataSphere больше](#section-id7)"
   ]
  },
  {
   "cell_type": "markdown",
   "metadata": {
    "cellId": "4frx3apxsoa5ouxld0i6x"
   },
   "source": [
    "<a id='section-id1'></a>\n",
    "## 1. Фоновый запуск операции\n",
    "\n",
    "В Yandex DataSphere можно запустить операцию асинхронно. Вы можете запустить, например, процедуру оценки или обучение модели, и продолжить работу в ноутбуке. Выполнение операции будет происходить в фоне. Возможно, что фоновые операции будут выполняться на прерываемых виртуальных машинах и ресурсах, и поэтому займут больше времени, чем обычные операции. Зато и тарифицируется исполнение таких операций  <a href=\"https://cloud.yandex.ru/docs/datasphere/pricing#async\">по другим правилам.</a> \n",
    "Чтобы выполнение операции происходило в фоновом режиме, в ячейке укажите **#pragma async**. Диск в фоновых ячейках доступен только в режиме read-only."
   ]
  },
  {
   "cell_type": "code",
   "execution_count": null,
   "metadata": {
    "cellId": "a14b3mk1gqeud65zguqr9"
   },
   "outputs": [],
   "source": [
    "#Рассмотрим применение фоновой операции в обучении модели\n",
    "#Установим обновленную версию TensorFlow. После этого шага не забудьте рестартовать kernel.\n",
    "%pip install tensorflow -U"
   ]
  },
  {
   "cell_type": "markdown",
   "metadata": {
    "cellId": "6nf9hq5sfj4d9j2hj7tsy8"
   },
   "source": [
    "**Важно:** чтобы tensorflow > 2.4.x был совместим с CUDA, нужно собрать докер-образ c новым драйвером. Как это сделать, описано в [документации](https://cloud.yandex.ru/docs/datasphere/operations/user-images) и в ноутбуке [Настройка рабочей среды в Yandex DataSphere](environment_ru.ipynb#section-id0)."
   ]
  },
  {
   "cell_type": "code",
   "execution_count": null,
   "metadata": {
    "cellId": "2pngfyc0wh5fm4r0nsxhj"
   },
   "outputs": [],
   "source": [
    "#Импортируем нужные библиотеки\n",
    "import tensorflow as tf\n",
    "import datetime"
   ]
  },
  {
   "cell_type": "code",
   "execution_count": null,
   "metadata": {
    "cellId": "l874qj2szgnqnc0cakdno"
   },
   "outputs": [],
   "source": [
    "#Задаем модель\n",
    "mnist = tf.keras.datasets.mnist\n",
    "\n",
    "(x_train, y_train),(x_test, y_test) = mnist.load_data()\n",
    "x_train, x_test = x_train / 255.0, x_test / 255.0\n",
    "\n",
    "def create_model():\n",
    "  return tf.keras.models.Sequential([\n",
    "    tf.keras.layers.Flatten(input_shape=(28, 28)),\n",
    "    tf.keras.layers.Dense(512, activation='relu'),\n",
    "    tf.keras.layers.Dropout(0.2),\n",
    "    tf.keras.layers.Dense(10, activation='softmax')\n",
    "  ])"
   ]
  },
  {
   "cell_type": "code",
   "execution_count": null,
   "metadata": {
    "cellId": "e3ozvca3o6vfvtxorqjaer"
   },
   "outputs": [],
   "source": [
    "#Запускаем обучение модели в фоне\n",
    "#pragma async\n",
    "model = create_model()\n",
    "model.compile(optimizer='adam',\n",
    "              loss='sparse_categorical_crossentropy',\n",
    "              metrics=['accuracy'])\n",
    "model.fit(x=x_train,\n",
    "          y=y_train,\n",
    "          epochs=5,\n",
    "          validation_data=(x_test, y_test))\n",
    "model = create_model()\n",
    "model.compile(optimizer='adam',\n",
    "              loss='sparse_categorical_crossentropy',\n",
    "              metrics=['accuracy'])"
   ]
  },
  {
   "cell_type": "code",
   "execution_count": null,
   "metadata": {
    "cellId": "pncgtbvt6prnidph69kgh"
   },
   "outputs": [],
   "source": [
    "# Пока в фоне происходит обучение модели, \n",
    "# мы можем выполнять операции в основном потоке вычислений в ноутбуке\n",
    "a = 5\n",
    "print(a)"
   ]
  },
  {
   "cell_type": "markdown",
   "metadata": {
    "cellId": "sfbzfl9m61ouy273pyp0vt"
   },
   "source": [
    "Чтобы прервать выполнение фоновой операции, нужно выделить ячейку, в которой она выполняется, и в главном меню выбрать **Kernel** ⟶ **Interrupt selected cell(s)**  \n",
    "\n",
    "![](https://storage.yandexcloud.net/onboarding-notebooks/screenshots/interrupt-selected.png)"
   ]
  },
  {
   "cell_type": "code",
   "execution_count": null,
   "metadata": {
    "cellId": "vce97bx78tpo9cnexmheq"
   },
   "outputs": [],
   "source": [
    "#После окончания вычисления фоновой операции ее результат может понадобиться явно замержить\n",
    "#Нам поможет команда %apply_state и идентификатор состояния, указанный в warning\n",
    "%apply_state <checkpoint id>\n",
    "#В результате увидим сообщение \"State merged!\""
   ]
  },
  {
   "cell_type": "markdown",
   "metadata": {
    "cellId": "279068zd9mruka6xh4g8np"
   },
   "source": [
    "<a id='section-id2'></a>\n",
    "## 2. Early Access Version: Фоновый запуск последовательности операций\n",
    "\n",
    "В режиме [Early Access Version](welcome_ru.ipynb#section-id3) доступен фоновый запуск не только для одной операции, но и для последовательности операций.\n",
    "Фоновый запуск посдедовательности операций также может выполняться на прерываемых виртуальных машинах, и тарификация фонового запуска последовательности операций происходит <a href=\"https://cloud.yandex.ru/docs/datasphere/pricing#async\"> по тем же правилам</a>, что и тарификация одной фоновой операции. \n",
    "\n",
    "В отличие от фонового запуска одной операции, для запуска последовательности нужно указать желаемое количество запусков, периодичность сохранения промежуточных результатов и правило выбора конечного результата. Для фонового запуска последовательных операций в ячейке нужно указать команду **#pragma repeat**."
   ]
  },
  {
   "cell_type": "markdown",
   "metadata": {
    "cellId": "2u4q3iz9qi687hpw74dyu"
   },
   "source": [
    "Запустим обучение модели, рассмотренной [выше](#section-id2). В этом примере мы запускаем обучение модели 20 раз и сохраняем результат каждые 5 итераций. В состояние попадет модель, которая показала лучший результат на тестовых данных."
   ]
  },
  {
   "cell_type": "code",
   "execution_count": null,
   "metadata": {
    "cellId": "l6mjao8rqmhgy8ys8irps"
   },
   "outputs": [],
   "source": [
    "#pragma repeat --iterations 20 --checkpoint-period 5 --max-by \"model.evaluate(x_test, y_test, verbose=0)[1]\"\n",
    "\n",
    "model.fit(x_train, y_train, epochs=1, verbose=0)"
   ]
  },
  {
   "cell_type": "code",
   "execution_count": null,
   "metadata": {
    "cellId": "o1eye1ijrpsqf6977zqdlp"
   },
   "outputs": [],
   "source": [
    "#Как и в случае однокраnной фоновой операции, замержим результат, используя идентификатор состояния (result id) нужной попытки\n",
    "%apply_state <checkpoint id>"
   ]
  },
  {
   "cell_type": "markdown",
   "metadata": {
    "cellId": "hmlzwelisyw5mf9281pe7b"
   },
   "source": [
    "<a id='section-id3'></a>\n",
    "## 3. Делегирование вычислений на кластера Data Proc\n",
    "Бесшовная интеграция DataSphere с сервисом Yandex Data Proc позволяет делегировать вычисления на кластерах Apache Spark™ прямо из ноутбука. Можно использовать уже существующий кластер, а можно создать его прямо из ноутбука DataSphere.\n",
    "Чтобы вы могли создавать кластеры Data Proc из DataSphere или запускать уже существующие кластеры Data Proc, у проекта должны быть указаны:\n",
    "- [сервисный аккаунт](https://cloud.yandex.ru/docs/iam/concepts/users/service-accounts), от имени которого будут производиться все операции с кластерами Data Proc.\n",
    "- подсеть, в которой будет создаваться или из которой будет подключаться уже существующий кластер Data Proc. В рамках интеграции доступны только подсети, созданные в зоне доступности **ru-central1-a**.\n",
    "Эти параметры можно выбрать в дополнительных настройках проекта в консоли.\n",
    "\n",
    "![](https://storage.yandexcloud.net/onboarding-notebooks/screenshots/project-settings.jpg)"
   ]
  },
  {
   "cell_type": "markdown",
   "metadata": {
    "cellId": "oo5kqdojl6ikfkvldxq2p"
   },
   "source": [
    "Давайте создадим кластер прямо из ноутбука DataSphere. В главном меню выберите **File** ⟶ **Data Proc Clusters**. В открывшемся окне создания кластера задайте имя и размер нового кластера.\n",
    "     \n",
    "![](https://storage.yandexcloud.net/onboarding-notebooks/screenshots/data-proc-clusters.jpg) ![](https://storage.yandexcloud.net/onboarding-notebooks/screenshots/new-data-proc-cluster.png)"
   ]
  },
  {
   "cell_type": "markdown",
   "metadata": {
    "cellId": "utw5wh0lmfrk8e2ava4gn"
   },
   "source": [
    "Чтобы запустить вычисление на DataProc, укажите **#!spark --cluster <имя кластера>**. В примере ниже мы запустим вычисление на созданном нами кластере с именем **new**."
   ]
  },
  {
   "cell_type": "code",
   "execution_count": null,
   "metadata": {
    "cellId": "srjl1l31u9rb0uq2nn7fem"
   },
   "outputs": [],
   "source": [
    "#!spark --cluster new\n",
    "import random\n",
    "\n",
    "def inside(p):\n",
    "    x, y = random.random(), random.random()\n",
    "    return x*x + y*y < 1\n",
    "\n",
    "NUM_SAMPLES = 1_000_000\n",
    "\n",
    "count = sc.parallelize(range(0, NUM_SAMPLES)) \\\n",
    "             .filter(inside).count()\n",
    "print(\"Pi is roughly %f\" % (4.0 * count / NUM_SAMPLES))"
   ]
  },
  {
   "cell_type": "markdown",
   "metadata": {
    "cellId": "sq4ykdmyyc0lkegdwwcjmq"
   },
   "source": [
    "<a id='section-id4'></a>\n",
    "## 4. Распределенное обучение — Training as a Service\n",
    "\n",
    "Training as a Service дает возможность быстро обучить модель, используя распределенное обучение \"под ключ\". Чтобы использовать TaaS в DataSphere, не нужны специальные навыки: платформа поможет оптимально масштабировать обучение, написанное для одного GPU, на несколько ускорителей одной или нескольких виртуальных машин.\n",
    "\n",
    "Подробности о распределенном обучении читайте в [документации](https://cloud.yandex.ru/docs/datasphere/concepts/taas). "
   ]
  },
  {
   "cell_type": "markdown",
   "metadata": {
    "cellId": "tunywejijv0p2irvh60or"
   },
   "source": [
    "<a id='section-id5'></a>\n",
    "## 5. Индикаторы загрузки памяти, CPU и GPU\n",
    "\n",
    "Они видны в ноутбуке в верхнем правом углу.\n",
    "\n",
    "![](https://storage.yandexcloud.net/onboarding-notebooks/screenshots/mem-indicators.jpeg)"
   ]
  },
  {
   "cell_type": "markdown",
   "metadata": {
    "cellId": "cwb723mlsi6g38zrvaf1da",
    "pycharm": {
     "name": "#%% md\n"
    }
   },
   "source": [
    "<a id='section-id6'></a>\n",
    "## 6. TensorBoard\n",
    "\n",
    "DataSphere поддерживает TensorBoard. "
   ]
  },
  {
   "cell_type": "code",
   "execution_count": null,
   "metadata": {
    "cellId": "mkk5t2i5rm22vqltpqde"
   },
   "outputs": [],
   "source": [
    "#Запустим еще раз обучение модели, описанной выше\n",
    "model = create_model()\n",
    "model.compile(optimizer='adam',\n",
    "              loss='sparse_categorical_crossentropy',\n",
    "              metrics=['accuracy'])\n",
    "\n",
    "log_dir = \"logs/fit/\" + datetime.datetime.now().strftime(\"%Y%m%d-%H%M%S\")\n",
    "tensorboard_callback = tf.keras.callbacks.TensorBoard(log_dir=log_dir, histogram_freq=1)\n",
    "\n",
    "model.fit(x=x_train, \n",
    "          y=y_train, \n",
    "          epochs=5, \n",
    "          validation_data=(x_test, y_test), \n",
    "          callbacks=[tensorboard_callback])"
   ]
  },
  {
   "cell_type": "code",
   "execution_count": null,
   "metadata": {
    "cellId": "bxts6yfdrl6h8aft6fsgmn",
    "pycharm": {
     "name": "#%%\n"
    }
   },
   "outputs": [],
   "source": [
    "#Теперь мы можем наблюдать прогресс на TensorBoard\n",
    "%tensorboard --logdir logs/fit"
   ]
  },
  {
   "cell_type": "markdown",
   "metadata": {
    "cellId": "r268yo9b869qoaf8yrfh"
   },
   "source": [
    "Помимо отрисовки TensorBoard прямо в ноутбуке, можно воспользоваться панелью слева, где отображены все сессии TensorBoard, и перейти к графу TensorBoard в отдельной вкладке.   \n",
    "\n",
    "![](https://storage.yandexcloud.net/onboarding-notebooks/screenshots/tensorboard.jpeg)"
   ]
  },
  {
   "cell_type": "markdown",
   "metadata": {
    "cellId": "ob4gvia0kd7qr56qkhgb7l",
    "pycharm": {
     "name": "#%% md\n"
    }
   },
   "source": [
    "<a id='section-id7'></a>\n",
    "\n",
    "## 7. Узнать о Yandex DataSphere больше\n",
    "У нас есть подробная [документация](https://cloud.yandex.ru/docs/datasphere/).\n",
    "\n",
    "**Еще три полезных ноутбука**  \n",
    "- [Добро пожаловать в Yandex DataSphere](welcome_ru.ipynb#section-id0)\n",
    "- [О работе с данными и версионировании кода, переменных и состояния в Yandex DataSphere, а также о том, как поделиться результатами](dataflow_ru.ipynb#section-id0)\n",
    "- [Настройка рабочей среды в Yandex DataSphere](environment_ru.ipynb#section-id0)\n",
    "\n",
    "**Видео о DataSphere:**\n",
    "- <a href=\"https://www.youtube.com/watch?v=udZcoKwb6aM&lc=UgyYeJGhB1WX-FvyqTJ4AaABAg\"> вебинар \"Новое в Yandex DataSphere для ML-разработки\" (февраль 2021) </a>\n",
    "- <a href=\"https://www.youtube.com/watch?v=_haQTawg940\"> практический вебинар по DataSphere (ноябрь 2020) </a>\n",
    "- <a href=\"https://youtu.be/1px5ZoN44cE\"> доклад на Yandex.Scale 2020 о возможностях DataSphere (сентябрь 2020)</a>\n",
    "- <a href=\"https://youtu.be/5y2-x9GcITs\"> рассказ на Yandex.Scale 2020 о технической реализации DataSpher (сентябрь 2020)e</a>\n",
    "- <a href=\"https://youtu.be/5o5OJOwDfaU\"> практический вебинар, работа в DataSphere на примере публичных данных (август 2020)</a>\n",
    "- <a href=\"https://www.youtube.com/watch?v=MtXpZ4RZAjk\"> рассказ о DataSphere на конференции about:cloud  (май 2020) </a>\n",
    "\n"
   ]
  },
  {
   "cell_type": "code",
   "execution_count": null,
   "metadata": {
    "cellId": "cg9lq33pgt7cslk3hxbo2e"
   },
   "outputs": [],
   "source": []
  }
 ],
 "metadata": {
  "kernelspec": {
   "display_name": "Python 3 (ipykernel)",
   "language": "python",
   "name": "python3"
  },
  "language_info": {
   "codemirror_mode": {
    "name": "ipython",
    "version": 3
   },
   "file_extension": ".py",
   "mimetype": "text/x-python",
   "name": "python",
   "nbconvert_exporter": "python",
   "pygments_lexer": "ipython3",
   "version": "3.12.1"
  },
  "notebookId": "2e68d93d-466d-4622-8f08-b63538410e52",
  "notebookPath": "sdfsd/.ipynb_checkpoints/.ipynb_checkpoints/modeltraining_ru-checkpoint-checkpoint.ipynb",
  "ydsNotebookPath": "modeltraining.ipynb"
 },
 "nbformat": 4,
 "nbformat_minor": 4
}
